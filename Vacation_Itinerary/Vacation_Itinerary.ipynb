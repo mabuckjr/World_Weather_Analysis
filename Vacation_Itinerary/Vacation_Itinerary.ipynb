{
 "cells": [
  {
   "cell_type": "markdown",
   "metadata": {},
   "source": [
    "## Deliverable 3. Create a Travel Itinerary Map."
   ]
  },
  {
   "cell_type": "code",
   "execution_count": 10,
   "metadata": {},
   "outputs": [],
   "source": [
    "# Dependencies and Setup\n",
    "import pandas as pd\n",
    "import requests\n",
    "import gmaps\n",
    "import os\n",
    "import numpy as np\n",
    "\n",
    "# Import API key\n",
    "from config import g_key\n",
    "\n",
    "# Configure gmaps\n",
    "gmaps.configure(api_key=g_key)"
   ]
  },
  {
   "cell_type": "code",
   "execution_count": 11,
   "metadata": {},
   "outputs": [
    {
     "data": {
      "text/html": [
       "<div>\n",
       "<style scoped>\n",
       "    .dataframe tbody tr th:only-of-type {\n",
       "        vertical-align: middle;\n",
       "    }\n",
       "\n",
       "    .dataframe tbody tr th {\n",
       "        vertical-align: top;\n",
       "    }\n",
       "\n",
       "    .dataframe thead th {\n",
       "        text-align: right;\n",
       "    }\n",
       "</style>\n",
       "<table border=\"1\" class=\"dataframe\">\n",
       "  <thead>\n",
       "    <tr style=\"text-align: right;\">\n",
       "      <th></th>\n",
       "      <th>City_ID</th>\n",
       "      <th>City</th>\n",
       "      <th>Country</th>\n",
       "      <th>Max Temp</th>\n",
       "      <th>Current Description</th>\n",
       "      <th>Lat</th>\n",
       "      <th>Lng</th>\n",
       "      <th>Hotel Name</th>\n",
       "    </tr>\n",
       "  </thead>\n",
       "  <tbody>\n",
       "    <tr>\n",
       "      <th>0</th>\n",
       "      <td>7</td>\n",
       "      <td>Faanui</td>\n",
       "      <td>PF</td>\n",
       "      <td>77.90</td>\n",
       "      <td>few clouds</td>\n",
       "      <td>-16.4833</td>\n",
       "      <td>-151.7500</td>\n",
       "      <td>Bora-Bora Pearl Beach Resort &amp; Spa</td>\n",
       "    </tr>\n",
       "    <tr>\n",
       "      <th>1</th>\n",
       "      <td>13</td>\n",
       "      <td>Touros</td>\n",
       "      <td>BR</td>\n",
       "      <td>76.10</td>\n",
       "      <td>clear sky</td>\n",
       "      <td>-5.1989</td>\n",
       "      <td>-35.4608</td>\n",
       "      <td>INN NEW HORIZON</td>\n",
       "    </tr>\n",
       "    <tr>\n",
       "      <th>2</th>\n",
       "      <td>16</td>\n",
       "      <td>Kavieng</td>\n",
       "      <td>PG</td>\n",
       "      <td>82.81</td>\n",
       "      <td>light rain</td>\n",
       "      <td>-2.5744</td>\n",
       "      <td>150.7967</td>\n",
       "      <td>Nusa Island Retreat</td>\n",
       "    </tr>\n",
       "    <tr>\n",
       "      <th>3</th>\n",
       "      <td>20</td>\n",
       "      <td>San Cristobal</td>\n",
       "      <td>VE</td>\n",
       "      <td>75.38</td>\n",
       "      <td>overcast clouds</td>\n",
       "      <td>7.7669</td>\n",
       "      <td>-72.2250</td>\n",
       "      <td>Posada Villaven C.A.</td>\n",
       "    </tr>\n",
       "    <tr>\n",
       "      <th>4</th>\n",
       "      <td>24</td>\n",
       "      <td>Damietta</td>\n",
       "      <td>EG</td>\n",
       "      <td>78.69</td>\n",
       "      <td>clear sky</td>\n",
       "      <td>31.4165</td>\n",
       "      <td>31.8133</td>\n",
       "      <td>SULIMAN INN</td>\n",
       "    </tr>\n",
       "  </tbody>\n",
       "</table>\n",
       "</div>"
      ],
      "text/plain": [
       "   City_ID           City Country  Max Temp Current Description      Lat  \\\n",
       "0        7         Faanui      PF     77.90          few clouds -16.4833   \n",
       "1       13         Touros      BR     76.10           clear sky  -5.1989   \n",
       "2       16        Kavieng      PG     82.81          light rain  -2.5744   \n",
       "3       20  San Cristobal      VE     75.38     overcast clouds   7.7669   \n",
       "4       24       Damietta      EG     78.69           clear sky  31.4165   \n",
       "\n",
       "        Lng                          Hotel Name  \n",
       "0 -151.7500  Bora-Bora Pearl Beach Resort & Spa  \n",
       "1  -35.4608                     INN NEW HORIZON  \n",
       "2  150.7967                 Nusa Island Retreat  \n",
       "3  -72.2250                Posada Villaven C.A.  \n",
       "4   31.8133                         SULIMAN INN  "
      ]
     },
     "execution_count": 11,
     "metadata": {},
     "output_type": "execute_result"
    }
   ],
   "source": [
    "# 1. Read the WeatherPy_vacation.csv into a DataFrame.\n",
    "vacation_df = pd.read_csv(r'C:\\\\Users\\\\mabuc\\\\Documents\\\\Classwork\\\\Module-6 WeatherPy with Python APIs\\\\World_Weather_Analysis\\\\Vacation_Search\\\\WeatherPy_vacation.csv')\n",
    "vacation_df.head()"
   ]
  },
  {
   "cell_type": "code",
   "execution_count": 14,
   "metadata": {},
   "outputs": [],
   "source": [
    "# 2. Using the template add the city name, the country code, the weather description and maximum temperature for the city.\n",
    "info_box_template = \"\"\"\n",
    "<dl>\n",
    "<dt>Hotel Name</dt><dd>{Hotel Name}</dd>\n",
    "<dt>City</dt><dd>{City}</dd>\n",
    "<dt>Country</dt><dd>{Country}</dd>\n",
    "<dt>Current Weather</dt><dd>{Current Description} and {Max Temp} °F</dd>\n",
    "</dl>\n",
    "\"\"\"\n",
    "\n",
    "# 3a. Get the data from each row and add it to the formatting template and store the data in a list.\n",
    "hotel_info = [info_box_template.format(**row) for index, row in vacation_df.iterrows()]\n",
    "\n",
    "# 3b. Get the latitude and longitude from each row and store in a new DataFrame.\n",
    "locations = vacation_df[[\"Lat\", \"Lng\"]]"
   ]
  },
  {
   "cell_type": "code",
   "execution_count": 15,
   "metadata": {},
   "outputs": [
    {
     "data": {
      "application/vnd.jupyter.widget-view+json": {
       "model_id": "fc168a6a29044619b75d92c0d28cd396",
       "version_major": 2,
       "version_minor": 0
      },
      "text/plain": [
       "Figure(layout=FigureLayout(height='420px'))"
      ]
     },
     "metadata": {},
     "output_type": "display_data"
    }
   ],
   "source": [
    "# 4a. Add a marker layer for each city to the map.\n",
    "locations = vacation_df[[\"Lat\", \"Lng\"]]\n",
    "max_temp = vacation_df[\"Max Temp\"]\n",
    "fig = gmaps.figure(center=(30.0, 31.0), zoom_level=1.4)\n",
    "marker_layer = gmaps.marker_layer(locations, info_box_content=hotel_info)\n",
    "fig.add_layer(marker_layer)\n",
    "# 4b. Display the figure\n",
    "fig\n"
   ]
  },
  {
   "cell_type": "code",
   "execution_count": 30,
   "metadata": {},
   "outputs": [],
   "source": [
    "# From the map above pick 4 cities and create a vacation itinerary route to travel between the four cities. \n",
    "# 5. Create DataFrames for each city by filtering the 'vacation_df' using the loc method. \n",
    "# Hint: The starting and ending city should be the same city.\n",
    "\n",
    "vacation_start = vacation_df.loc[vacation_df[\"City\"] == \"Lazaro Cardenas\"]\n",
    "vacation_end = vacation_df.loc[vacation_df[\"City\"] == \"Lazaro Cardenas\"]\n",
    "vacation_stop1 = vacation_df.loc[vacation_df[\"City\"]== \"Acaponeta\"]\n",
    "vacation_stop2 = vacation_df.loc[vacation_df[\"City\"] == \"Ixtapa\"]\n",
    "vacation_stop3 = vacation_df.loc[vacation_df[\"City\"] == \"Coahuayana\"]"
   ]
  },
  {
   "cell_type": "code",
   "execution_count": 44,
   "metadata": {},
   "outputs": [],
   "source": [
    "# 6. Get the latitude-longitude pairs as tuples from each city DataFrame using the to_numpy function and list indexing.\n",
    "start = vacation_start[\"Lat\"].to_numpy()[0], vacation_start[\"Lng\"].to_numpy()[0]\n",
    "end = vacation_end[\"Lat\"].to_numpy()[0], vacation_end[\"Lng\"].to_numpy()[0]\n",
    "stop1 = vacation_stop1[\"Lat\"].to_numpy()[0], vacation_stop1[\"Lng\"].to_numpy()[0]\n",
    "stop2 = vacation_stop2[\"Lat\"].to_numpy()[0], vacation_stop2[\"Lng\"].to_numpy()[0]\n",
    "stop3 = vacation_stop3[\"Lat\"].to_numpy()[0], vacation_stop3[\"Lng\"].to_numpy()[0]"
   ]
  },
  {
   "cell_type": "code",
   "execution_count": 45,
   "metadata": {
    "scrolled": true
   },
   "outputs": [
    {
     "data": {
      "application/vnd.jupyter.widget-view+json": {
       "model_id": "96030e5d971c4e74940cea9d24f6ddd6",
       "version_major": 2,
       "version_minor": 0
      },
      "text/plain": [
       "Figure(layout=FigureLayout(height='420px'))"
      ]
     },
     "metadata": {},
     "output_type": "display_data"
    }
   ],
   "source": [
    "# 7. Create a direction layer map using the start and end latitude-longitude pairs,\n",
    "# and stop1, stop2, and stop3 as the waypoints. The travel_mode should be \"DRIVING\", \"BICYCLING\", or \"WALKING\".\n",
    "# Create Map with route\n",
    "fig = gmaps.figure()\n",
    "city_itinerary = gmaps.directions_layer(\n",
    "        start, end, waypoints=[stop1, stop2, stop3],\n",
    "        travel_mode='DRIVING')\n",
    "\n",
    "fig.add_layer(city_itinerary)\n",
    "fig"
   ]
  },
  {
   "cell_type": "code",
   "execution_count": 49,
   "metadata": {},
   "outputs": [
    {
     "data": {
      "text/html": [
       "<div>\n",
       "<style scoped>\n",
       "    .dataframe tbody tr th:only-of-type {\n",
       "        vertical-align: middle;\n",
       "    }\n",
       "\n",
       "    .dataframe tbody tr th {\n",
       "        vertical-align: top;\n",
       "    }\n",
       "\n",
       "    .dataframe thead th {\n",
       "        text-align: right;\n",
       "    }\n",
       "</style>\n",
       "<table border=\"1\" class=\"dataframe\">\n",
       "  <thead>\n",
       "    <tr style=\"text-align: right;\">\n",
       "      <th></th>\n",
       "      <th>City_ID</th>\n",
       "      <th>City</th>\n",
       "      <th>Country</th>\n",
       "      <th>Max Temp</th>\n",
       "      <th>Current Description</th>\n",
       "      <th>Lat</th>\n",
       "      <th>Lng</th>\n",
       "      <th>Hotel Name</th>\n",
       "    </tr>\n",
       "  </thead>\n",
       "  <tbody>\n",
       "    <tr>\n",
       "      <th>0</th>\n",
       "      <td>415</td>\n",
       "      <td>Lazaro Cardenas</td>\n",
       "      <td>MX</td>\n",
       "      <td>80.49</td>\n",
       "      <td>few clouds</td>\n",
       "      <td>17.9583</td>\n",
       "      <td>-102.2000</td>\n",
       "      <td>quinta antigua</td>\n",
       "    </tr>\n",
       "    <tr>\n",
       "      <th>1</th>\n",
       "      <td>684</td>\n",
       "      <td>Acaponeta</td>\n",
       "      <td>MX</td>\n",
       "      <td>77.45</td>\n",
       "      <td>overcast clouds</td>\n",
       "      <td>22.4964</td>\n",
       "      <td>-105.3594</td>\n",
       "      <td>Hotel Casa Blanca</td>\n",
       "    </tr>\n",
       "    <tr>\n",
       "      <th>2</th>\n",
       "      <td>485</td>\n",
       "      <td>Ixtapa</td>\n",
       "      <td>MX</td>\n",
       "      <td>77.31</td>\n",
       "      <td>broken clouds</td>\n",
       "      <td>20.7000</td>\n",
       "      <td>-105.2000</td>\n",
       "      <td>Hotel Plaza Providencia</td>\n",
       "    </tr>\n",
       "    <tr>\n",
       "      <th>3</th>\n",
       "      <td>254</td>\n",
       "      <td>Coahuayana</td>\n",
       "      <td>MX</td>\n",
       "      <td>79.54</td>\n",
       "      <td>broken clouds</td>\n",
       "      <td>18.7333</td>\n",
       "      <td>-103.6833</td>\n",
       "      <td>El rranchito michuacan de ocampos</td>\n",
       "    </tr>\n",
       "  </tbody>\n",
       "</table>\n",
       "</div>"
      ],
      "text/plain": [
       "   City_ID             City Country  Max Temp Current Description      Lat  \\\n",
       "0      415  Lazaro Cardenas      MX     80.49          few clouds  17.9583   \n",
       "1      684        Acaponeta      MX     77.45     overcast clouds  22.4964   \n",
       "2      485           Ixtapa      MX     77.31       broken clouds  20.7000   \n",
       "3      254       Coahuayana      MX     79.54       broken clouds  18.7333   \n",
       "\n",
       "        Lng                         Hotel Name  \n",
       "0 -102.2000                     quinta antigua  \n",
       "1 -105.3594                  Hotel Casa Blanca  \n",
       "2 -105.2000            Hotel Plaza Providencia  \n",
       "3 -103.6833  El rranchito michuacan de ocampos  "
      ]
     },
     "execution_count": 49,
     "metadata": {},
     "output_type": "execute_result"
    }
   ],
   "source": [
    "# 8. To create a marker layer map between the four cities.\n",
    "#  Combine the four city DataFrames into one DataFrame using the concat() function.\n",
    "itinerary_df = pd.concat([vacation_start, vacation_stop1, vacation_stop2, vacation_stop3],ignore_index=True)\n",
    "itinerary_df"
   ]
  },
  {
   "cell_type": "code",
   "execution_count": 50,
   "metadata": {},
   "outputs": [],
   "source": [
    "# 9 Using the template add city name, the country code, the weather description and maximum temperature for the city. \n",
    "info_box_template = \"\"\"\n",
    "<dl>\n",
    "<dt>Hotel Name</dt><dd>{Hotel Name}</dd>\n",
    "<dt>City</dt><dd>{City}</dd>\n",
    "<dt>Country</dt><dd>{Country}</dd>\n",
    "<dt>Current Weather</dt><dd>{Current Description} and {Max Temp} °F</dd>\n",
    "</dl>\n",
    "\"\"\"\n",
    "\n",
    "# 10a Get the data from each row and add it to the formatting template and store the data in a list.\n",
    "hotel_info = [info_box_template.format(**row) for index, row in itinerary_df.iterrows()]\n",
    "\n",
    "# 10b. Get the latitude and longitude from each row and store in a new DataFrame.\n",
    "locations = itinerary_df[[\"Lat\", \"Lng\"]]"
   ]
  },
  {
   "cell_type": "code",
   "execution_count": 54,
   "metadata": {},
   "outputs": [
    {
     "data": {
      "application/vnd.jupyter.widget-view+json": {
       "model_id": "f5aa00e55adc41049ae418d931d0cad4",
       "version_major": 2,
       "version_minor": 0
      },
      "text/plain": [
       "Figure(layout=FigureLayout(height='420px'))"
      ]
     },
     "metadata": {},
     "output_type": "display_data"
    }
   ],
   "source": [
    "# 11a. Add a marker layer for each city to the map.\n",
    "locations = itinerary_df[[\"Lat\", \"Lng\"]]\n",
    "max_temp = itinerary_df[\"Max Temp\"]\n",
    "fig = gmaps.figure()\n",
    "marker_layer = gmaps.marker_layer(locations, info_box_content=hotel_info)\n",
    "fig.add_layer(marker_layer)\n",
    "# 11b. Display the figure\n",
    "fig"
   ]
  },
  {
   "cell_type": "code",
   "execution_count": null,
   "metadata": {},
   "outputs": [],
   "source": []
  }
 ],
 "metadata": {
  "kernelspec": {
   "display_name": "PythonData",
   "language": "python",
   "name": "pythondata"
  },
  "language_info": {
   "codemirror_mode": {
    "name": "ipython",
    "version": 3
   },
   "file_extension": ".py",
   "mimetype": "text/x-python",
   "name": "python",
   "nbconvert_exporter": "python",
   "pygments_lexer": "ipython3",
   "version": "3.9.4"
  },
  "latex_envs": {
   "LaTeX_envs_menu_present": true,
   "autoclose": false,
   "autocomplete": true,
   "bibliofile": "biblio.bib",
   "cite_by": "apalike",
   "current_citInitial": 1,
   "eqLabelWithNumbers": true,
   "eqNumInitial": 1,
   "hotkeys": {
    "equation": "Ctrl-E",
    "itemize": "Ctrl-I"
   },
   "labels_anchors": false,
   "latex_user_defs": false,
   "report_style_numbering": false,
   "user_envs_cfg": false
  }
 },
 "nbformat": 4,
 "nbformat_minor": 2
}
